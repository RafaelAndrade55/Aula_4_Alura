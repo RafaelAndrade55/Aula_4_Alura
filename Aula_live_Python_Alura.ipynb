{
  "nbformat": 4,
  "nbformat_minor": 0,
  "metadata": {
    "colab": {
      "provenance": [],
      "authorship_tag": "ABX9TyOyMUFve7otewHeipbB4nD6",
      "include_colab_link": true
    },
    "kernelspec": {
      "name": "python3",
      "display_name": "Python 3"
    },
    "language_info": {
      "name": "python"
    }
  },
  "cells": [
    {
      "cell_type": "markdown",
      "metadata": {
        "id": "view-in-github",
        "colab_type": "text"
      },
      "source": [
        "<a href=\"https://colab.research.google.com/github/RafaelAndrade55/Aula_4_Alura/blob/main/Aula_live_Python_Alura.ipynb\" target=\"_parent\"><img src=\"https://colab.research.google.com/assets/colab-badge.svg\" alt=\"Open In Colab\"/></a>"
      ]
    },
    {
      "cell_type": "code",
      "execution_count": 3,
      "metadata": {
        "colab": {
          "base_uri": "https://localhost:8080/"
        },
        "id": "B-F1YU0OKJdj",
        "outputId": "34621cdc-7361-4330-e06f-da3e5acb32c3"
      },
      "outputs": [
        {
          "output_type": "stream",
          "name": "stdout",
          "text": [
            "A palavra secreta tem 5 letras -> utilizar e administrar sistemas operacionais de código aberto.phyton\n",
            "Respota errada. A palavra secreta é linux\n"
          ]
        }
      ],
      "source": [
        "import requests\n",
        "\n",
        "url = 'https://raw.githubusercontent.com/guilhermeonrails/api-imersao-ia/main/words.json'\n",
        "\n",
        "resposta = requests.get(url)\n",
        "\n",
        "data = resposta.json()\n",
        "\n",
        "len(data)\n",
        "\n",
        "data[0]\n",
        "\n",
        "import random\n",
        "\n",
        "valor_secreto = random.choice(data)\n",
        "\n",
        "palavra_secreta = valor_secreto['palavra']\n",
        "\n",
        "dica = valor_secreto['dica']\n",
        "\n",
        "chute = input(f'A palavra secreta tem {len(palavra_secreta)} letras -> {dica}')\n",
        "\n",
        "if chute == palavra_secreta:\n",
        "  print('Resposta correta')\n",
        "else:\n",
        "  print(f'Respota errada. A palavra secreta é {palavra_secreta}')"
      ]
    },
    {
      "cell_type": "code",
      "source": [
        "import random\n",
        "\n",
        "valor_secreto = random.choice(data)\n",
        "\n",
        "palavra_secreta = valor_secreto['palavra']\n",
        "\n",
        "dica = valor_secreto['dica']\n",
        "\n",
        "chute = input(f'A palavra secreta tem {len(palavra_secreta)} letras -> {dica}')\n",
        "\n",
        "if chute == palavra_secreta:\n",
        "  print(\"Resposta correta\")\n",
        "else:\n",
        "  print(\"Respota errada\")"
      ],
      "metadata": {
        "colab": {
          "base_uri": "https://localhost:8080/",
          "height": 211
        },
        "id": "SXKRJsNfPliD",
        "outputId": "8565467d-2673-427e-f18e-3bd5e41f9b4a"
      },
      "execution_count": 1,
      "outputs": [
        {
          "output_type": "error",
          "ename": "NameError",
          "evalue": "name 'data' is not defined",
          "traceback": [
            "\u001b[0;31m---------------------------------------------------------------------------\u001b[0m",
            "\u001b[0;31mNameError\u001b[0m                                 Traceback (most recent call last)",
            "\u001b[0;32m<ipython-input-1-7ded8f920c14>\u001b[0m in \u001b[0;36m<cell line: 3>\u001b[0;34m()\u001b[0m\n\u001b[1;32m      1\u001b[0m \u001b[0;32mimport\u001b[0m \u001b[0mrandom\u001b[0m\u001b[0;34m\u001b[0m\u001b[0;34m\u001b[0m\u001b[0m\n\u001b[1;32m      2\u001b[0m \u001b[0;34m\u001b[0m\u001b[0m\n\u001b[0;32m----> 3\u001b[0;31m \u001b[0mvalor_secreto\u001b[0m \u001b[0;34m=\u001b[0m \u001b[0mrandom\u001b[0m\u001b[0;34m.\u001b[0m\u001b[0mchoice\u001b[0m\u001b[0;34m(\u001b[0m\u001b[0mdata\u001b[0m\u001b[0;34m)\u001b[0m\u001b[0;34m\u001b[0m\u001b[0;34m\u001b[0m\u001b[0m\n\u001b[0m\u001b[1;32m      4\u001b[0m \u001b[0;34m\u001b[0m\u001b[0m\n\u001b[1;32m      5\u001b[0m \u001b[0mpalavra_secreta\u001b[0m \u001b[0;34m=\u001b[0m \u001b[0mvalor_secreto\u001b[0m\u001b[0;34m[\u001b[0m\u001b[0;34m'palavra'\u001b[0m\u001b[0;34m]\u001b[0m\u001b[0;34m\u001b[0m\u001b[0;34m\u001b[0m\u001b[0m\n",
            "\u001b[0;31mNameError\u001b[0m: name 'data' is not defined"
          ]
        }
      ]
    }
  ]
}