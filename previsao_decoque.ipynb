{
  "nbformat": 4,
  "nbformat_minor": 0,
  "metadata": {
    "colab": {
      "provenance": [],
      "authorship_tag": "ABX9TyNRJXnrLTam768sJpGI13Gs",
      "include_colab_link": true
    },
    "kernelspec": {
      "name": "python3",
      "display_name": "Python 3"
    },
    "language_info": {
      "name": "python"
    }
  },
  "cells": [
    {
      "cell_type": "markdown",
      "metadata": {
        "id": "view-in-github",
        "colab_type": "text"
      },
      "source": [
        "<a href=\"https://colab.research.google.com/github/RafaelAndrade55/Aula_4_Alura/blob/main/previsao_decoque.ipynb\" target=\"_parent\"><img src=\"https://colab.research.google.com/assets/colab-badge.svg\" alt=\"Open In Colab\"/></a>"
      ]
    },
    {
      "cell_type": "code",
      "execution_count": 10,
      "metadata": {
        "colab": {
          "base_uri": "https://localhost:8080/",
          "height": 391
        },
        "id": "rOfblKMdXukA",
        "outputId": "968ae89f-e0d3-42e9-89a4-dfde7038134d"
      },
      "outputs": [
        {
          "name": "stdout",
          "output_type": "stream",
          "text": [
            "Digite o caminho para o arquivo Excel: d:\\Users\\rafael.andrade\\Documents\\Apresentações\\EPC_2024\\Analises_Resultados\\Pirometria\n",
            "Digite a temperatura limite de decoque (°C): 1075\n"
          ]
        },
        {
          "output_type": "error",
          "ename": "FileNotFoundError",
          "evalue": "[Errno 2] No such file or directory: 'd:\\\\Users\\\\rafael.andrade\\\\Documents\\\\Apresentações\\\\EPC_2024\\\\Analises_Resultados\\\\Pirometria'",
          "traceback": [
            "\u001b[0;31m---------------------------------------------------------------------------\u001b[0m",
            "\u001b[0;31mFileNotFoundError\u001b[0m                         Traceback (most recent call last)",
            "\u001b[0;32m<ipython-input-10-282401465e04>\u001b[0m in \u001b[0;36m<cell line: 82>\u001b[0;34m()\u001b[0m\n\u001b[1;32m     80\u001b[0m \u001b[0;34m\u001b[0m\u001b[0m\n\u001b[1;32m     81\u001b[0m \u001b[0;31m# Executar a previsão de decoque\u001b[0m\u001b[0;34m\u001b[0m\u001b[0;34m\u001b[0m\u001b[0m\n\u001b[0;32m---> 82\u001b[0;31m \u001b[0mprever_decoque\u001b[0m\u001b[0;34m(\u001b[0m\u001b[0marquivo\u001b[0m\u001b[0;34m,\u001b[0m \u001b[0mT_limite\u001b[0m\u001b[0;34m)\u001b[0m\u001b[0;34m\u001b[0m\u001b[0;34m\u001b[0m\u001b[0m\n\u001b[0m\u001b[1;32m     83\u001b[0m \u001b[0;34m\u001b[0m\u001b[0m\n\u001b[1;32m     84\u001b[0m \u001b[0mprint\u001b[0m\u001b[0;34m(\u001b[0m\u001b[0;34m\"\\nResultados salvos em 'taxas_aumento_temperatura.csv' e gráfico gerado.\"\u001b[0m\u001b[0;34m)\u001b[0m\u001b[0;34m\u001b[0m\u001b[0;34m\u001b[0m\u001b[0m\n",
            "\u001b[0;32m<ipython-input-10-282401465e04>\u001b[0m in \u001b[0;36mprever_decoque\u001b[0;34m(arquivo, T_limite)\u001b[0m\n\u001b[1;32m     17\u001b[0m \u001b[0;34m\u001b[0m\u001b[0m\n\u001b[1;32m     18\u001b[0m   \u001b[0;31m# Carregar os dados do arquivo Excel\u001b[0m\u001b[0;34m\u001b[0m\u001b[0;34m\u001b[0m\u001b[0m\n\u001b[0;32m---> 19\u001b[0;31m   \u001b[0mdf\u001b[0m \u001b[0;34m=\u001b[0m \u001b[0mpd\u001b[0m\u001b[0;34m.\u001b[0m\u001b[0mread_excel\u001b[0m\u001b[0;34m(\u001b[0m\u001b[0marquivo\u001b[0m\u001b[0;34m)\u001b[0m\u001b[0;34m\u001b[0m\u001b[0;34m\u001b[0m\u001b[0m\n\u001b[0m\u001b[1;32m     20\u001b[0m \u001b[0;34m\u001b[0m\u001b[0m\n\u001b[1;32m     21\u001b[0m   \u001b[0;31m# Remover linhas com 'Run (days)' igual a 0 (inicio de campanha)\u001b[0m\u001b[0;34m\u001b[0m\u001b[0;34m\u001b[0m\u001b[0m\n",
            "\u001b[0;32m/usr/local/lib/python3.10/dist-packages/pandas/io/excel/_base.py\u001b[0m in \u001b[0;36mread_excel\u001b[0;34m(io, sheet_name, header, names, index_col, usecols, dtype, engine, converters, true_values, false_values, skiprows, nrows, na_values, keep_default_na, na_filter, verbose, parse_dates, date_parser, date_format, thousands, decimal, comment, skipfooter, storage_options, dtype_backend)\u001b[0m\n\u001b[1;32m    476\u001b[0m     \u001b[0;32mif\u001b[0m \u001b[0;32mnot\u001b[0m \u001b[0misinstance\u001b[0m\u001b[0;34m(\u001b[0m\u001b[0mio\u001b[0m\u001b[0;34m,\u001b[0m \u001b[0mExcelFile\u001b[0m\u001b[0;34m)\u001b[0m\u001b[0;34m:\u001b[0m\u001b[0;34m\u001b[0m\u001b[0;34m\u001b[0m\u001b[0m\n\u001b[1;32m    477\u001b[0m         \u001b[0mshould_close\u001b[0m \u001b[0;34m=\u001b[0m \u001b[0;32mTrue\u001b[0m\u001b[0;34m\u001b[0m\u001b[0;34m\u001b[0m\u001b[0m\n\u001b[0;32m--> 478\u001b[0;31m         \u001b[0mio\u001b[0m \u001b[0;34m=\u001b[0m \u001b[0mExcelFile\u001b[0m\u001b[0;34m(\u001b[0m\u001b[0mio\u001b[0m\u001b[0;34m,\u001b[0m \u001b[0mstorage_options\u001b[0m\u001b[0;34m=\u001b[0m\u001b[0mstorage_options\u001b[0m\u001b[0;34m,\u001b[0m \u001b[0mengine\u001b[0m\u001b[0;34m=\u001b[0m\u001b[0mengine\u001b[0m\u001b[0;34m)\u001b[0m\u001b[0;34m\u001b[0m\u001b[0;34m\u001b[0m\u001b[0m\n\u001b[0m\u001b[1;32m    479\u001b[0m     \u001b[0;32melif\u001b[0m \u001b[0mengine\u001b[0m \u001b[0;32mand\u001b[0m \u001b[0mengine\u001b[0m \u001b[0;34m!=\u001b[0m \u001b[0mio\u001b[0m\u001b[0;34m.\u001b[0m\u001b[0mengine\u001b[0m\u001b[0;34m:\u001b[0m\u001b[0;34m\u001b[0m\u001b[0;34m\u001b[0m\u001b[0m\n\u001b[1;32m    480\u001b[0m         raise ValueError(\n",
            "\u001b[0;32m/usr/local/lib/python3.10/dist-packages/pandas/io/excel/_base.py\u001b[0m in \u001b[0;36m__init__\u001b[0;34m(self, path_or_buffer, engine, storage_options)\u001b[0m\n\u001b[1;32m   1494\u001b[0m                 \u001b[0mext\u001b[0m \u001b[0;34m=\u001b[0m \u001b[0;34m\"xls\"\u001b[0m\u001b[0;34m\u001b[0m\u001b[0;34m\u001b[0m\u001b[0m\n\u001b[1;32m   1495\u001b[0m             \u001b[0;32melse\u001b[0m\u001b[0;34m:\u001b[0m\u001b[0;34m\u001b[0m\u001b[0;34m\u001b[0m\u001b[0m\n\u001b[0;32m-> 1496\u001b[0;31m                 ext = inspect_excel_format(\n\u001b[0m\u001b[1;32m   1497\u001b[0m                     \u001b[0mcontent_or_path\u001b[0m\u001b[0;34m=\u001b[0m\u001b[0mpath_or_buffer\u001b[0m\u001b[0;34m,\u001b[0m \u001b[0mstorage_options\u001b[0m\u001b[0;34m=\u001b[0m\u001b[0mstorage_options\u001b[0m\u001b[0;34m\u001b[0m\u001b[0;34m\u001b[0m\u001b[0m\n\u001b[1;32m   1498\u001b[0m                 )\n",
            "\u001b[0;32m/usr/local/lib/python3.10/dist-packages/pandas/io/excel/_base.py\u001b[0m in \u001b[0;36minspect_excel_format\u001b[0;34m(content_or_path, storage_options)\u001b[0m\n\u001b[1;32m   1369\u001b[0m         \u001b[0mcontent_or_path\u001b[0m \u001b[0;34m=\u001b[0m \u001b[0mBytesIO\u001b[0m\u001b[0;34m(\u001b[0m\u001b[0mcontent_or_path\u001b[0m\u001b[0;34m)\u001b[0m\u001b[0;34m\u001b[0m\u001b[0;34m\u001b[0m\u001b[0m\n\u001b[1;32m   1370\u001b[0m \u001b[0;34m\u001b[0m\u001b[0m\n\u001b[0;32m-> 1371\u001b[0;31m     with get_handle(\n\u001b[0m\u001b[1;32m   1372\u001b[0m         \u001b[0mcontent_or_path\u001b[0m\u001b[0;34m,\u001b[0m \u001b[0;34m\"rb\"\u001b[0m\u001b[0;34m,\u001b[0m \u001b[0mstorage_options\u001b[0m\u001b[0;34m=\u001b[0m\u001b[0mstorage_options\u001b[0m\u001b[0;34m,\u001b[0m \u001b[0mis_text\u001b[0m\u001b[0;34m=\u001b[0m\u001b[0;32mFalse\u001b[0m\u001b[0;34m\u001b[0m\u001b[0;34m\u001b[0m\u001b[0m\n\u001b[1;32m   1373\u001b[0m     ) as handle:\n",
            "\u001b[0;32m/usr/local/lib/python3.10/dist-packages/pandas/io/common.py\u001b[0m in \u001b[0;36mget_handle\u001b[0;34m(path_or_buf, mode, encoding, compression, memory_map, is_text, errors, storage_options)\u001b[0m\n\u001b[1;32m    866\u001b[0m         \u001b[0;32melse\u001b[0m\u001b[0;34m:\u001b[0m\u001b[0;34m\u001b[0m\u001b[0;34m\u001b[0m\u001b[0m\n\u001b[1;32m    867\u001b[0m             \u001b[0;31m# Binary mode\u001b[0m\u001b[0;34m\u001b[0m\u001b[0;34m\u001b[0m\u001b[0m\n\u001b[0;32m--> 868\u001b[0;31m             \u001b[0mhandle\u001b[0m \u001b[0;34m=\u001b[0m \u001b[0mopen\u001b[0m\u001b[0;34m(\u001b[0m\u001b[0mhandle\u001b[0m\u001b[0;34m,\u001b[0m \u001b[0mioargs\u001b[0m\u001b[0;34m.\u001b[0m\u001b[0mmode\u001b[0m\u001b[0;34m)\u001b[0m\u001b[0;34m\u001b[0m\u001b[0;34m\u001b[0m\u001b[0m\n\u001b[0m\u001b[1;32m    869\u001b[0m         \u001b[0mhandles\u001b[0m\u001b[0;34m.\u001b[0m\u001b[0mappend\u001b[0m\u001b[0;34m(\u001b[0m\u001b[0mhandle\u001b[0m\u001b[0;34m)\u001b[0m\u001b[0;34m\u001b[0m\u001b[0;34m\u001b[0m\u001b[0m\n\u001b[1;32m    870\u001b[0m \u001b[0;34m\u001b[0m\u001b[0m\n",
            "\u001b[0;31mFileNotFoundError\u001b[0m: [Errno 2] No such file or directory: 'd:\\\\Users\\\\rafael.andrade\\\\Documents\\\\Apresentações\\\\EPC_2024\\\\Analises_Resultados\\\\Pirometria'"
          ]
        }
      ],
      "source": [
        "import pandas as pd\n",
        "import numpy as np\n",
        "from sklearn.linear_model import LinearRegression\n",
        "import matplotlib.pyplot as plt\n",
        "\n",
        "def prever_decoque(arquivo, T_limite):\n",
        "  \"\"\"\n",
        "  Preve a necessidade de decoque com base em dados de temperatura dos tubos de saída.\n",
        "\n",
        "  Args:\n",
        "    arquivo (str): Caminho para o arquivo Excel com os dados de temperatura.\n",
        "    T_limite (float): Temperatura limite que indica a necessidade de decoque (°C).\n",
        "\n",
        "  Returns:\n",
        "    None: Imprime as previsões e gera gráficos.\n",
        "  \"\"\"\n",
        "\n",
        "  # Carregar os dados do arquivo Excel\n",
        "  df = pd.read_excel(arquivo)\n",
        "\n",
        "  # Remover linhas com 'Run (days)' igual a 0 (inicio de campanha)\n",
        "  df = df[df['Run (days)'] != 0]\n",
        "\n",
        "  # Calcular a taxa média de aumento de temperatura para cada tubo\n",
        "  taxas_aumento_tubo = {}\n",
        "  for coluna in df.columns[4:]:  # Iterar pelas colunas de temperatura (TMT#1 - TMT#54)\n",
        "    tubo = coluna.split('#')[1]\n",
        "\n",
        "    # Criar modelo de regressão linear\n",
        "    modelo = LinearRegression()\n",
        "\n",
        "    # Extrair dados de temperatura e dias de campanha, ignorando valores 0\n",
        "    x = df['Run (days)'][df[coluna] != 0].values.reshape(-1, 1)\n",
        "    y = df[coluna][df[coluna] != 0].values.reshape(-1, 1)\n",
        "\n",
        "    # Treinar o modelo\n",
        "    modelo.fit(x, y)\n",
        "\n",
        "    # Armazenar a taxa de aumento (coeficiente angular da reta)\n",
        "    taxas_aumento_tubo[tubo] = modelo.coef_[0][0]\n",
        "\n",
        "  # Calcular a taxa média de aumento de temperatura global do forno\n",
        "  taxa_aumento_global = np.mean(list(taxas_aumento_tubo.values()))\n",
        "\n",
        "  # Previsão da duração da campanha para cada tubo\n",
        "  print(\"Previsão de Duração da Campanha por Tubo:\")\n",
        "  print(\"------------------------------------------\")\n",
        "  for tubo, taxa in taxas_aumento_tubo.items():\n",
        "    T_inicial = df[f'TMT#{tubo}'].iloc[-1]  # Temperatura mais recente do tubo\n",
        "    if T_inicial != 0:\n",
        "      t_campanha = (T_limite - T_inicial) / taxa\n",
        "      print(f\"Tubo #{tubo}: {t_campanha:.1f} dias\")\n",
        "\n",
        "  # Calcular a duração média da campanha do forno\n",
        "  duracao_media_campanha = (T_limite - df.iloc[:, 4:].mean().mean()) / taxa_aumento_global\n",
        "  print(\"\\nDuração Média da Campanha do Forno:\", f\"{duracao_media_campanha:.1f} dias\")\n",
        "\n",
        "  # Plotar gráfico da temperatura dos tubos em função do tempo\n",
        "  plt.figure(figsize=(12, 6))\n",
        "  for coluna in df.columns[4:]:\n",
        "    plt.plot(df['Run (days)'], df[coluna], label=coluna)\n",
        "  plt.xlabel('Dias de Campanha')\n",
        "  plt.ylabel('Temperatura (°C)')\n",
        "  plt.title('Temperatura dos Tubos de Saída ao Longo do Tempo')\n",
        "  plt.legend(loc='upper left', bbox_to_anchor=(1, 1))\n",
        "  plt.grid(True)\n",
        "  plt.show()\n",
        "\n",
        "  # Salvar as taxas de aumento de temperatura em um arquivo CSV\n",
        "  with open('taxas_aumento_temperatura.csv', 'w') as f:\n",
        "    f.write(\"Tubo,Taxa de Aumento (°C/dia)\\n\")\n",
        "    for tubo, taxa in taxas_aumento_tubo.items():\n",
        "      f.write(f\"{tubo},{taxa:.2f}\\n\")\n",
        "\n",
        "# Solicitar o caminho do arquivo Excel para o usuário\n",
        "arquivo = input(\"Digite o caminho para o arquivo Excel: \")\n",
        "\n",
        "# Solicitar a temperatura limite para o usuário\n",
        "T_limite = float(input(\"Digite a temperatura limite de decoque (°C): \"))\n",
        "\n",
        "# Executar a previsão de decoque\n",
        "prever_decoque(arquivo, T_limite)\n",
        "\n",
        "print(\"\\nResultados salvos em 'taxas_aumento_temperatura.csv' e gráfico gerado.\")\n",
        "\n"
      ]
    }
  ]
}